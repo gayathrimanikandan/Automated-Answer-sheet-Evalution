{
  "nbformat": 4,
  "nbformat_minor": 0,
  "metadata": {
    "colab": {
      "name": "Automated_Answer-sheet_Evaluation.ipynb",
      "provenance": []
    },
    "kernelspec": {
      "name": "python3",
      "display_name": "Python 3"
    }
  },
  "cells": [
    {
      "cell_type": "code",
      "metadata": {
        "id": "Mk39jfhkFgRJ",
        "colab_type": "code",
        "cellView": "both",
        "colab": {
          "base_uri": "https://localhost:8080/",
          "height": 74
        },
        "outputId": "d56425c4-0d26-4b87-944e-750d2e1b0599"
      },
      "source": [
        "from absl import logging\n",
        "import tensorflow as tf\n",
        "import tensorflow_hub as hub\n",
        "import matplotlib.pyplot as plt\n",
        "import numpy as np\n",
        "import pandas as pd\n",
        "from scipy import spatial\n",
        "import scipy\n",
        "import nltk\n",
        "import sklearn\n",
        "from sklearn import metrics\n",
        "import seaborn as sns"
      ],
      "execution_count": null,
      "outputs": [
        {
          "output_type": "stream",
          "text": [
            "/usr/local/lib/python3.6/dist-packages/statsmodels/tools/_testing.py:19: FutureWarning: pandas.util.testing is deprecated. Use the functions in the public API at pandas.testing instead.\n",
            "  import pandas.util.testing as tm\n"
          ],
          "name": "stderr"
        }
      ]
    },
    {
      "cell_type": "code",
      "metadata": {
        "id": "AOKySthieWjC",
        "colab_type": "code",
        "colab": {
          "base_uri": "https://localhost:8080/",
          "height": 72
        },
        "outputId": "7258e5b2-87ce-443c-a23f-0776a3d05cbf"
      },
      "source": [
        "nltk.download('punkt')"
      ],
      "execution_count": null,
      "outputs": [
        {
          "output_type": "stream",
          "text": [
            "[nltk_data] Downloading package punkt to /root/nltk_data...\n",
            "[nltk_data]   Package punkt is already up-to-date!\n"
          ],
          "name": "stdout"
        },
        {
          "output_type": "execute_result",
          "data": {
            "text/plain": [
              "True"
            ]
          },
          "metadata": {
            "tags": []
          },
          "execution_count": 2
        }
      ]
    },
    {
      "cell_type": "markdown",
      "metadata": {
        "id": "MUAzsNROb5fs",
        "colab_type": "text"
      },
      "source": [
        "### **Data Module**"
      ]
    },
    {
      "cell_type": "code",
      "metadata": {
        "id": "_S2ebuAqL6qM",
        "colab_type": "code",
        "colab": {
          "resources": {
            "http://localhost:8080/nbextensions/google.colab/files.js": {
              "data": "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",
              "ok": true,
              "headers": [
                [
                  "content-type",
                  "application/javascript"
                ]
              ],
              "status": 200,
              "status_text": ""
            }
          },
          "base_uri": "https://localhost:8080/",
          "height": 75
        },
        "outputId": "90ed63b2-fbd8-43cf-bbef-d1fada1479ad"
      },
      "source": [
        "from google.colab import files\n",
        "uploaded = files.upload()\n",
        "\n"
      ],
      "execution_count": null,
      "outputs": [
        {
          "output_type": "display_data",
          "data": {
            "text/html": [
              "\n",
              "     <input type=\"file\" id=\"files-897743cd-ed77-438a-afdd-dba9d98fd342\" name=\"files[]\" multiple disabled />\n",
              "     <output id=\"result-897743cd-ed77-438a-afdd-dba9d98fd342\">\n",
              "      Upload widget is only available when the cell has been executed in the\n",
              "      current browser session. Please rerun this cell to enable.\n",
              "      </output>\n",
              "      <script src=\"/nbextensions/google.colab/files.js\"></script> "
            ],
            "text/plain": [
              "<IPython.core.display.HTML object>"
            ]
          },
          "metadata": {
            "tags": []
          }
        },
        {
          "output_type": "stream",
          "text": [
            "Saving Answers dataset (2).xlsx to Answers dataset (2) (2).xlsx\n"
          ],
          "name": "stdout"
        }
      ]
    },
    {
      "cell_type": "code",
      "metadata": {
        "id": "UJFJP0WoG1j5",
        "colab_type": "code",
        "colab": {
          "base_uri": "https://localhost:8080/",
          "height": 198
        },
        "outputId": "c1cd1bec-41c9-4d14-9db9-db0ea8c4407e"
      },
      "source": [
        "df = pd.read_excel(\"Answers dataset (2).xlsx\" )\n",
        "df.head()"
      ],
      "execution_count": null,
      "outputs": [
        {
          "output_type": "execute_result",
          "data": {
            "text/html": [
              "<div>\n",
              "<style scoped>\n",
              "    .dataframe tbody tr th:only-of-type {\n",
              "        vertical-align: middle;\n",
              "    }\n",
              "\n",
              "    .dataframe tbody tr th {\n",
              "        vertical-align: top;\n",
              "    }\n",
              "\n",
              "    .dataframe thead th {\n",
              "        text-align: right;\n",
              "    }\n",
              "</style>\n",
              "<table border=\"1\" class=\"dataframe\">\n",
              "  <thead>\n",
              "    <tr style=\"text-align: right;\">\n",
              "      <th></th>\n",
              "      <th>Questions</th>\n",
              "      <th>Actual Answer</th>\n",
              "      <th>Student Response</th>\n",
              "      <th>Actual Grades</th>\n",
              "    </tr>\n",
              "  </thead>\n",
              "  <tbody>\n",
              "    <tr>\n",
              "      <th>0</th>\n",
              "      <td>What is Artificial Intelligence?</td>\n",
              "      <td>Artificial Intelligence is a field of computer...</td>\n",
              "      <td>Artificial intelligence (AI) is wide-ranging b...</td>\n",
              "      <td>4</td>\n",
              "    </tr>\n",
              "    <tr>\n",
              "      <th>1</th>\n",
              "      <td>What is Tower of Hanoi?</td>\n",
              "      <td>Tower of Hanoi is a mathematical puzzle that s...</td>\n",
              "      <td>Tower of Hanoi, also called Towers of Hanoi or...</td>\n",
              "      <td>2</td>\n",
              "    </tr>\n",
              "    <tr>\n",
              "      <th>2</th>\n",
              "      <td>What is a breadth-first search algorithm?</td>\n",
              "      <td>A breadth-first search (BFS) algorithm, used f...</td>\n",
              "      <td>BFS is a traversing algorithm where you should...</td>\n",
              "      <td>4</td>\n",
              "    </tr>\n",
              "    <tr>\n",
              "      <th>3</th>\n",
              "      <td>What is a depth-first search algorithm?</td>\n",
              "      <td>Depth-first search (DFS) is based on LIFO (las...</td>\n",
              "      <td>Depth-first search is an algorithm for travers...</td>\n",
              "      <td>3</td>\n",
              "    </tr>\n",
              "    <tr>\n",
              "      <th>4</th>\n",
              "      <td>What is a bidirectional search algorithm?</td>\n",
              "      <td>In a bidirectional search algorithm, the searc...</td>\n",
              "      <td>Bidirectional search is a graph search algorit...</td>\n",
              "      <td>3</td>\n",
              "    </tr>\n",
              "  </tbody>\n",
              "</table>\n",
              "</div>"
            ],
            "text/plain": [
              "                                   Questions  ... Actual Grades\n",
              "0           What is Artificial Intelligence?  ...             4\n",
              "1                    What is Tower of Hanoi?  ...             2\n",
              "2  What is a breadth-first search algorithm?  ...             4\n",
              "3    What is a depth-first search algorithm?  ...             3\n",
              "4  What is a bidirectional search algorithm?  ...             3\n",
              "\n",
              "[5 rows x 4 columns]"
            ]
          },
          "metadata": {
            "tags": []
          },
          "execution_count": 4
        }
      ]
    },
    {
      "cell_type": "code",
      "metadata": {
        "id": "sjhjiDpiJ0Xf",
        "colab_type": "code",
        "colab": {}
      },
      "source": [
        "Actual_ans = df[\"Actual Answer\"].values.tolist()\n",
        "Student_Response = df[\"Student Response\"].values.tolist()\n",
        "Actual_Grades = df[\"Actual Grades\"].values.tolist()"
      ],
      "execution_count": null,
      "outputs": []
    },
    {
      "cell_type": "code",
      "metadata": {
        "id": "h9SZyfJFkT15",
        "colab_type": "code",
        "colab": {
          "base_uri": "https://localhost:8080/",
          "height": 35
        },
        "outputId": "99cf9e59-4a68-481c-9cfd-3f0382d3a5bc"
      },
      "source": [
        "Actual_Grades"
      ],
      "execution_count": null,
      "outputs": [
        {
          "output_type": "execute_result",
          "data": {
            "text/plain": [
              "[4, 2, 4, 3, 3, 5, 4, 2, 2, 2, 3, 5, 2, 2, 1, 4]"
            ]
          },
          "metadata": {
            "tags": []
          },
          "execution_count": 6
        }
      ]
    },
    {
      "cell_type": "markdown",
      "metadata": {
        "id": "iinSDtLrbNVd",
        "colab_type": "text"
      },
      "source": [
        "### **Processing Module**"
      ]
    },
    {
      "cell_type": "code",
      "metadata": {
        "id": "l-lWGQQnL693",
        "colab_type": "code",
        "colab": {}
      },
      "source": [
        "# Processing Data tokenisation of paragraph into sentence\n",
        "from nltk.tokenize import sent_tokenize\n",
        "\n",
        "Answer1 = []\n",
        "Answer2 = []\n",
        "\n",
        "\n",
        "for i in range(len(Actual_ans)):\n",
        "  text = sent_tokenize(Actual_ans[i])\n",
        "  Answer1.insert(i , text)\n",
        "\n",
        "for i in range(len(Student_Response)):\n",
        "  text = sent_tokenize(Student_Response[i])\n",
        "  Answer2.insert(i , text)"
      ],
      "execution_count": null,
      "outputs": []
    },
    {
      "cell_type": "markdown",
      "metadata": {
        "id": "MPatiM37cB6S",
        "colab_type": "text"
      },
      "source": [
        "### **Similarity** **Module**"
      ]
    },
    {
      "cell_type": "code",
      "metadata": {
        "id": "Z53ZSN6vv_vZ",
        "colab_type": "code",
        "colab": {
          "base_uri": "https://localhost:8080/",
          "height": 35
        },
        "outputId": "a2085e51-c1d1-4773-ff88-3a8857cd1f12"
      },
      "source": [
        "# Loading Pre Trained Model USE\n",
        "\n",
        "module_url = \"https://tfhub.dev/google/universal-sentence-encoder/4\" #@param [\"https://tfhub.dev/google/universal-sentence-encoder/4\", \"https://tfhub.dev/google/universal-sentence-encoder-large/5\"]\n",
        "model = hub.load(module_url)\n",
        "print (\"module %s loaded\" % module_url)\n",
        "def embed(input):\n",
        "  return model(input)"
      ],
      "execution_count": null,
      "outputs": [
        {
          "output_type": "stream",
          "text": [
            "module https://tfhub.dev/google/universal-sentence-encoder/4 loaded\n"
          ],
          "name": "stdout"
        }
      ]
    },
    {
      "cell_type": "code",
      "metadata": {
        "id": "iAvq-eg57nW0",
        "colab_type": "code",
        "colab": {}
      },
      "source": [
        "# Function to calculate Cosine Similarity\n",
        "\n",
        "def cosine_distance(s1, s2):\n",
        "    cosine_distance = scipy.spatial.distance.cosine(s1, s2)\n",
        "    cosine_similarity = 1 - cosine_distance\n",
        "    return cosine_similarity"
      ],
      "execution_count": null,
      "outputs": []
    },
    {
      "cell_type": "code",
      "metadata": {
        "id": "omvFK-dZHg15",
        "colab_type": "code",
        "colab": {}
      },
      "source": [
        "# Function to calculate Euclidean Similarity\n",
        "\n",
        "def Euclidean_distance(s1, s2):\n",
        "    euclidean_dis = scipy.spatial.distance.euclidean(s1, s2)\n",
        "    return euclidean_dis\n"
      ],
      "execution_count": null,
      "outputs": []
    },
    {
      "cell_type": "code",
      "metadata": {
        "id": "M18mw7o5Lbc2",
        "colab_type": "code",
        "colab": {}
      },
      "source": [
        "# Calculating Semantic Similarity using Cosine distance and euclidean distance\n",
        "\n",
        "grades_similarity = []\n",
        "grades_similarity_euclidean = []\n",
        "\n",
        "for i in range(len(Actual_ans)):\n",
        "  a1 = Actual_ans[i]\n",
        "  a2 = Student_Response[i]\n",
        "  messages = [a1 , a2]\n",
        "  \n",
        "  b1 = embed([a1])\n",
        "  b2 = embed([a2])\n",
        "\n",
        "  cs = cosine_distance(b1,b2)\n",
        "  grades_similarity.insert(i , cs)\n",
        "\n",
        "\n",
        "  es = Euclidean_distance(b1,b2)\n",
        "  grades_similarity_euclidean.insert (i , es)\n",
        "\n",
        "\n",
        "df.insert(4, \"Cosine_Grade\", grades_similarity, True) \n",
        "df.insert(5, \"Euclidean_Grade\", grades_similarity_euclidean, True)  "
      ],
      "execution_count": null,
      "outputs": []
    },
    {
      "cell_type": "code",
      "metadata": {
        "id": "r9LRBNR-C07z",
        "colab_type": "code",
        "colab": {
          "base_uri": "https://localhost:8080/",
          "height": 302
        },
        "outputId": "10d69cda-0edc-4ec6-c89f-38229706b310"
      },
      "source": [
        "df.head()"
      ],
      "execution_count": null,
      "outputs": [
        {
          "output_type": "execute_result",
          "data": {
            "text/html": [
              "<div>\n",
              "<style scoped>\n",
              "    .dataframe tbody tr th:only-of-type {\n",
              "        vertical-align: middle;\n",
              "    }\n",
              "\n",
              "    .dataframe tbody tr th {\n",
              "        vertical-align: top;\n",
              "    }\n",
              "\n",
              "    .dataframe thead th {\n",
              "        text-align: right;\n",
              "    }\n",
              "</style>\n",
              "<table border=\"1\" class=\"dataframe\">\n",
              "  <thead>\n",
              "    <tr style=\"text-align: right;\">\n",
              "      <th></th>\n",
              "      <th>Questions</th>\n",
              "      <th>Actual Answer</th>\n",
              "      <th>Student Response</th>\n",
              "      <th>Actual Grades</th>\n",
              "      <th>Cosine_Grade</th>\n",
              "      <th>Euclidean_Grade</th>\n",
              "    </tr>\n",
              "  </thead>\n",
              "  <tbody>\n",
              "    <tr>\n",
              "      <th>0</th>\n",
              "      <td>What is Artificial Intelligence?</td>\n",
              "      <td>Artificial Intelligence is a field of computer...</td>\n",
              "      <td>Artificial intelligence (AI) is wide-ranging b...</td>\n",
              "      <td>4</td>\n",
              "      <td>0.702393</td>\n",
              "      <td>0.771501</td>\n",
              "    </tr>\n",
              "    <tr>\n",
              "      <th>1</th>\n",
              "      <td>What is Tower of Hanoi?</td>\n",
              "      <td>Tower of Hanoi is a mathematical puzzle that s...</td>\n",
              "      <td>Tower of Hanoi, also called Towers of Hanoi or...</td>\n",
              "      <td>2</td>\n",
              "      <td>0.480253</td>\n",
              "      <td>1.019555</td>\n",
              "    </tr>\n",
              "    <tr>\n",
              "      <th>2</th>\n",
              "      <td>What is a breadth-first search algorithm?</td>\n",
              "      <td>A breadth-first search (BFS) algorithm, used f...</td>\n",
              "      <td>BFS is a traversing algorithm where you should...</td>\n",
              "      <td>4</td>\n",
              "      <td>0.738059</td>\n",
              "      <td>0.723797</td>\n",
              "    </tr>\n",
              "    <tr>\n",
              "      <th>3</th>\n",
              "      <td>What is a depth-first search algorithm?</td>\n",
              "      <td>Depth-first search (DFS) is based on LIFO (las...</td>\n",
              "      <td>Depth-first search is an algorithm for travers...</td>\n",
              "      <td>3</td>\n",
              "      <td>0.702058</td>\n",
              "      <td>0.771936</td>\n",
              "    </tr>\n",
              "    <tr>\n",
              "      <th>4</th>\n",
              "      <td>What is a bidirectional search algorithm?</td>\n",
              "      <td>In a bidirectional search algorithm, the searc...</td>\n",
              "      <td>Bidirectional search is a graph search algorit...</td>\n",
              "      <td>3</td>\n",
              "      <td>0.676824</td>\n",
              "      <td>0.803960</td>\n",
              "    </tr>\n",
              "  </tbody>\n",
              "</table>\n",
              "</div>"
            ],
            "text/plain": [
              "                                   Questions  ... Euclidean_Grade\n",
              "0           What is Artificial Intelligence?  ...        0.771501\n",
              "1                    What is Tower of Hanoi?  ...        1.019555\n",
              "2  What is a breadth-first search algorithm?  ...        0.723797\n",
              "3    What is a depth-first search algorithm?  ...        0.771936\n",
              "4  What is a bidirectional search algorithm?  ...        0.803960\n",
              "\n",
              "[5 rows x 6 columns]"
            ]
          },
          "metadata": {
            "tags": []
          },
          "execution_count": 12
        }
      ]
    },
    {
      "cell_type": "markdown",
      "metadata": {
        "id": "ZT-uDUjAcbXz",
        "colab_type": "text"
      },
      "source": [
        "### **Grading** **Module**"
      ]
    },
    {
      "cell_type": "code",
      "metadata": {
        "id": "iTgT0Xn9Km--",
        "colab_type": "code",
        "colab": {}
      },
      "source": [
        "# Grading module based on Embeddings + Cosine Similarity\n",
        "\n",
        "Grades = []\n",
        "grades = df[\"Actual Grades\"].values.tolist()"
      ],
      "execution_count": null,
      "outputs": []
    },
    {
      "cell_type": "code",
      "metadata": {
        "id": "iNuaodV4jbOA",
        "colab_type": "code",
        "colab": {}
      },
      "source": [
        "# Grading module\n",
        "\n",
        "for i in range(len(grades)):\n",
        "  if grades_similarity[i] >= 0.8:\n",
        "    Grades.insert(i , 5)\n",
        "  elif (grades_similarity[i] >= 0.7) and (grades_similarity_euclidean[i] < 0.8):\n",
        "     Grades.insert(i , 4)\n",
        "  elif (grades_similarity[i] >= 0.6) and (grades_similarity_euclidean[i] < 0.7):\n",
        "     Grades.insert(i , 3)\n",
        "  elif (grades_similarity[i] >= 0.5) and (grades_similarity_euclidean[i] < 0.6):\n",
        "     Grades.insert(i , 2)\n",
        "  else:\n",
        "    Grades.insert(i , 1)"
      ],
      "execution_count": null,
      "outputs": []
    },
    {
      "cell_type": "code",
      "metadata": {
        "id": "y2ZJWqMEncmE",
        "colab_type": "code",
        "colab": {}
      },
      "source": [
        "Grades\n",
        "df.insert(6, \"Cosine_score\", Grades, True) \n"
      ],
      "execution_count": null,
      "outputs": []
    },
    {
      "cell_type": "code",
      "metadata": {
        "id": "zJwaUVSr8T4_",
        "colab_type": "code",
        "colab": {}
      },
      "source": [
        "eg = df[\"Euclidean_Grade\"].max()\n",
        "Eu_list = []\n",
        "\n",
        "for i in range(len(grades)):\n",
        "  Eu = ((df[\"Euclidean_Grade\"][i])/eg)\n",
        "  Eu_list.insert(i,Eu)\n"
      ],
      "execution_count": null,
      "outputs": []
    },
    {
      "cell_type": "code",
      "metadata": {
        "id": "ZcopKz_XNe_I",
        "colab_type": "code",
        "colab": {}
      },
      "source": [
        "Eu_list"
      ],
      "execution_count": null,
      "outputs": []
    },
    {
      "cell_type": "code",
      "metadata": {
        "id": "9nNzui_sU2RC",
        "colab_type": "code",
        "colab": {
          "base_uri": "https://localhost:8080/",
          "height": 35
        },
        "outputId": "d3400c4a-0b40-46e9-9a1d-96fa25362356"
      },
      "source": [
        "Grades1 = []\n",
        "grades = df[\"Actual Grades\"].values.tolist()\n",
        "grades"
      ],
      "execution_count": null,
      "outputs": [
        {
          "output_type": "execute_result",
          "data": {
            "text/plain": [
              "[4, 2, 4, 3, 3, 5, 4, 2, 2, 2, 3, 5, 2, 2, 1, 4]"
            ]
          },
          "metadata": {
            "tags": []
          },
          "execution_count": 17
        }
      ]
    },
    {
      "cell_type": "code",
      "metadata": {
        "id": "matKzZLkU29W",
        "colab_type": "code",
        "colab": {}
      },
      "source": [
        "\n",
        "for i in range(len(grades)):\n",
        "  if grades_similarity_euclidean[i] >= 0.8:\n",
        "    Grades1.insert(i , 5)\n",
        "  elif (grades_similarity_euclidean[i] >= 0.7) and (grades_similarity_euclidean[i] < 0.8):\n",
        "     Grades1.insert(i , 4)\n",
        "  elif (grades_similarity_euclidean[i] >= 0.6) and (grades_similarity_euclidean[i] < 0.7):\n",
        "     Grades1.insert(i , 3)\n",
        "  elif (grades_similarity_euclidean[i] >= 0.5) and (grades_similarity_euclidean[i] < 0.6):\n",
        "     Grades1.insert(i , 2)\n",
        "  else:\n",
        "    Grades1.insert(i , 1)"
      ],
      "execution_count": null,
      "outputs": []
    },
    {
      "cell_type": "code",
      "metadata": {
        "id": "5PwSlwM3UQz6",
        "colab_type": "code",
        "colab": {}
      },
      "source": [
        "df.insert(7, \"Euclidean_score\", Grades1, True) "
      ],
      "execution_count": null,
      "outputs": []
    },
    {
      "cell_type": "code",
      "metadata": {
        "id": "wNuDKCDyDHQ7",
        "colab_type": "code",
        "colab": {
          "base_uri": "https://localhost:8080/",
          "height": 336
        },
        "outputId": "07c3577d-d901-4340-809b-88723b77b52d"
      },
      "source": [
        "df.head()"
      ],
      "execution_count": null,
      "outputs": [
        {
          "output_type": "execute_result",
          "data": {
            "text/html": [
              "<div>\n",
              "<style scoped>\n",
              "    .dataframe tbody tr th:only-of-type {\n",
              "        vertical-align: middle;\n",
              "    }\n",
              "\n",
              "    .dataframe tbody tr th {\n",
              "        vertical-align: top;\n",
              "    }\n",
              "\n",
              "    .dataframe thead th {\n",
              "        text-align: right;\n",
              "    }\n",
              "</style>\n",
              "<table border=\"1\" class=\"dataframe\">\n",
              "  <thead>\n",
              "    <tr style=\"text-align: right;\">\n",
              "      <th></th>\n",
              "      <th>Questions</th>\n",
              "      <th>Actual Answer</th>\n",
              "      <th>Student Response</th>\n",
              "      <th>Actual Grades</th>\n",
              "      <th>Cosine_Grade</th>\n",
              "      <th>Euclidean_Grade</th>\n",
              "      <th>Cosine_score</th>\n",
              "      <th>Euclidean_score</th>\n",
              "    </tr>\n",
              "  </thead>\n",
              "  <tbody>\n",
              "    <tr>\n",
              "      <th>0</th>\n",
              "      <td>What is Artificial Intelligence?</td>\n",
              "      <td>Artificial Intelligence is a field of computer...</td>\n",
              "      <td>Artificial intelligence (AI) is wide-ranging b...</td>\n",
              "      <td>4</td>\n",
              "      <td>0.702393</td>\n",
              "      <td>0.771501</td>\n",
              "      <td>4</td>\n",
              "      <td>4</td>\n",
              "    </tr>\n",
              "    <tr>\n",
              "      <th>1</th>\n",
              "      <td>What is Tower of Hanoi?</td>\n",
              "      <td>Tower of Hanoi is a mathematical puzzle that s...</td>\n",
              "      <td>Tower of Hanoi, also called Towers of Hanoi or...</td>\n",
              "      <td>2</td>\n",
              "      <td>0.480253</td>\n",
              "      <td>1.019555</td>\n",
              "      <td>1</td>\n",
              "      <td>5</td>\n",
              "    </tr>\n",
              "    <tr>\n",
              "      <th>2</th>\n",
              "      <td>What is a breadth-first search algorithm?</td>\n",
              "      <td>A breadth-first search (BFS) algorithm, used f...</td>\n",
              "      <td>BFS is a traversing algorithm where you should...</td>\n",
              "      <td>4</td>\n",
              "      <td>0.738059</td>\n",
              "      <td>0.723797</td>\n",
              "      <td>4</td>\n",
              "      <td>4</td>\n",
              "    </tr>\n",
              "    <tr>\n",
              "      <th>3</th>\n",
              "      <td>What is a depth-first search algorithm?</td>\n",
              "      <td>Depth-first search (DFS) is based on LIFO (las...</td>\n",
              "      <td>Depth-first search is an algorithm for travers...</td>\n",
              "      <td>3</td>\n",
              "      <td>0.702058</td>\n",
              "      <td>0.771936</td>\n",
              "      <td>4</td>\n",
              "      <td>4</td>\n",
              "    </tr>\n",
              "    <tr>\n",
              "      <th>4</th>\n",
              "      <td>What is a bidirectional search algorithm?</td>\n",
              "      <td>In a bidirectional search algorithm, the searc...</td>\n",
              "      <td>Bidirectional search is a graph search algorit...</td>\n",
              "      <td>3</td>\n",
              "      <td>0.676824</td>\n",
              "      <td>0.803960</td>\n",
              "      <td>1</td>\n",
              "      <td>5</td>\n",
              "    </tr>\n",
              "  </tbody>\n",
              "</table>\n",
              "</div>"
            ],
            "text/plain": [
              "                                   Questions  ... Euclidean_score\n",
              "0           What is Artificial Intelligence?  ...               4\n",
              "1                    What is Tower of Hanoi?  ...               5\n",
              "2  What is a breadth-first search algorithm?  ...               4\n",
              "3    What is a depth-first search algorithm?  ...               4\n",
              "4  What is a bidirectional search algorithm?  ...               5\n",
              "\n",
              "[5 rows x 8 columns]"
            ]
          },
          "metadata": {
            "tags": []
          },
          "execution_count": 20
        }
      ]
    },
    {
      "cell_type": "markdown",
      "metadata": {
        "id": "grPcZJjreymZ",
        "colab_type": "text"
      },
      "source": [
        "### **Evaluation and Metrics**"
      ]
    },
    {
      "cell_type": "code",
      "metadata": {
        "id": "TtUmMYn5P00l",
        "colab_type": "code",
        "colab": {}
      },
      "source": [
        "Cosine_Grade = df[\"Cosine_score\"]\n",
        "Actual_Grades = df[\"Actual Grades\"]\n",
        "Euclidean_Grade = df[\"Euclidean_score\"]"
      ],
      "execution_count": null,
      "outputs": []
    },
    {
      "cell_type": "code",
      "metadata": {
        "id": "4BVb96w20kFU",
        "colab_type": "code",
        "colab": {}
      },
      "source": [
        "y_pred_c = Grades\n",
        "y_pred_e = Grades1\n",
        "y_act = Actual_Grades\n"
      ],
      "execution_count": null,
      "outputs": []
    },
    {
      "cell_type": "code",
      "metadata": {
        "id": "pvQ-rzie0pdM",
        "colab_type": "code",
        "colab": {
          "base_uri": "https://localhost:8080/",
          "height": 287
        },
        "outputId": "60618504-1500-4091-a2c2-8c3913e1074a"
      },
      "source": [
        "# Cosine similarity Confusion Matrix\n",
        "\n",
        "cf = metrics.confusion_matrix(y_act, y_pred_c, labels=[1,2,3,4,5])\n",
        "sns.heatmap(cf, annot=True, cmap=\"YlGnBu\")\n"
      ],
      "execution_count": null,
      "outputs": [
        {
          "output_type": "execute_result",
          "data": {
            "text/plain": [
              "<matplotlib.axes._subplots.AxesSubplot at 0x7f05da97e8d0>"
            ]
          },
          "metadata": {
            "tags": []
          },
          "execution_count": 23
        },
        {
          "output_type": "display_data",
          "data": {
            "image/png": "[encoded data removed]",
            "text/plain": [
              "<Figure size 432x288 with 2 Axes>"
            ]
          },
          "metadata": {
            "tags": [],
            "needs_background": "light"
          }
        }
      ]
    },
    {
      "cell_type": "code",
      "metadata": {
        "id": "A0t1SPEUyYfp",
        "colab_type": "code",
        "colab": {}
      },
      "source": [
        "tn , fp , fn, tp = (cf).ravel"
      ],
      "execution_count": null,
      "outputs": []
    },
    {
      "cell_type": "code",
      "metadata": {
        "id": "kKTxR5pVm_-1",
        "colab_type": "code",
        "colab": {
          "base_uri": "https://localhost:8080/",
          "height": 292
        },
        "outputId": "15bc76c6-4cbb-4066-90f3-a214c541b65b"
      },
      "source": [
        "print(metrics.classification_report(y_act, y_pred_c, labels=[1,2,3,4,5]))"
      ],
      "execution_count": null,
      "outputs": [
        {
          "output_type": "stream",
          "text": [
            "              precision    recall  f1-score   support\n",
            "\n",
            "           1       0.11      1.00      0.20         1\n",
            "           2       0.00      0.00      0.00         6\n",
            "           3       0.00      0.00      0.00         3\n",
            "           4       0.67      1.00      0.80         4\n",
            "           5       1.00      0.50      0.67         2\n",
            "\n",
            "    accuracy                           0.38        16\n",
            "   macro avg       0.36      0.50      0.33        16\n",
            "weighted avg       0.30      0.38      0.30        16\n",
            "\n"
          ],
          "name": "stdout"
        },
        {
          "output_type": "stream",
          "text": [
            "/usr/local/lib/python3.6/dist-packages/sklearn/metrics/_classification.py:1272: UndefinedMetricWarning: Precision and F-score are ill-defined and being set to 0.0 in labels with no predicted samples. Use `zero_division` parameter to control this behavior.\n",
            "  _warn_prf(average, modifier, msg_start, len(result))\n"
          ],
          "name": "stderr"
        }
      ]
    },
    {
      "cell_type": "code",
      "metadata": {
        "id": "otYYCsapIMac",
        "colab_type": "code",
        "colab": {
          "base_uri": "https://localhost:8080/",
          "height": 287
        },
        "outputId": "50078276-8995-4c2e-975c-6650ad2fab51"
      },
      "source": [
        "# Euclidean Similarity Confusion Matrix\n",
        "\n",
        "cf1 = metrics.confusion_matrix(y_act, y_pred_e, labels=[1,2,3,4,5])\n",
        "sns.heatmap(cf1,annot=True, cmap=\"YlGnBu\")\n",
        "\n"
      ],
      "execution_count": null,
      "outputs": [
        {
          "output_type": "execute_result",
          "data": {
            "text/plain": [
              "<matplotlib.axes._subplots.AxesSubplot at 0x7f05d7d550b8>"
            ]
          },
          "metadata": {
            "tags": []
          },
          "execution_count": 25
        },
        {
          "output_type": "display_data",
          "data": {
            "image/png": "[encoded data removed]",
            "text/plain": [
              "<Figure size 432x288 with 2 Axes>"
            ]
          },
          "metadata": {
            "tags": [],
            "needs_background": "light"
          }
        }
      ]
    },
    {
      "cell_type": "code",
      "metadata": {
        "id": "QyJA3_TZm6YS",
        "colab_type": "code",
        "colab": {
          "base_uri": "https://localhost:8080/",
          "height": 292
        },
        "outputId": "26500249-5ec9-4552-be87-482ed2de0123"
      },
      "source": [
        "print(metrics.classification_report(y_act, y_pred_e, labels=[1,2,3,4,5]))"
      ],
      "execution_count": null,
      "outputs": [
        {
          "output_type": "stream",
          "text": [
            "              precision    recall  f1-score   support\n",
            "\n",
            "           1       0.00      0.00      0.00         1\n",
            "           2       0.00      0.00      0.00         6\n",
            "           3       0.00      0.00      0.00         3\n",
            "           4       0.60      0.75      0.67         4\n",
            "           5       0.00      0.00      0.00         2\n",
            "\n",
            "    accuracy                           0.19        16\n",
            "   macro avg       0.12      0.15      0.13        16\n",
            "weighted avg       0.15      0.19      0.17        16\n",
            "\n"
          ],
          "name": "stdout"
        },
        {
          "output_type": "stream",
          "text": [
            "/usr/local/lib/python3.6/dist-packages/sklearn/metrics/_classification.py:1272: UndefinedMetricWarning: Precision and F-score are ill-defined and being set to 0.0 in labels with no predicted samples. Use `zero_division` parameter to control this behavior.\n",
            "  _warn_prf(average, modifier, msg_start, len(result))\n"
          ],
          "name": "stderr"
        }
      ]
    }
  ]
}